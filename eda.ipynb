{
 "cells": [
  {
   "cell_type": "code",
   "execution_count": null,
   "metadata": {},
   "outputs": [],
   "source": []
  },
  {
   "cell_type": "code",
   "execution_count": null,
   "metadata": {},
   "outputs": [],
   "source": [
    "import os\n",
    "for filename in os.listdir('jpg'):\n",
    "    print(filename)"
   ]
  },
  {
   "cell_type": "code",
   "execution_count": null,
   "metadata": {},
   "outputs": [],
   "source": [
    "import imageio as iio\n",
    "\n",
    "import numpy as np\n",
    "import torch\n",
    "import os\n",
    "from torch.utils.data import Dataset, DataLoader\n",
    "# from torch.utis.data import Dataset, Dataloader\n",
    "\n",
    "\n",
    "class ImageSet(Dataset):\n",
    "    # init will initialize the dataset\n",
    "    def __init__(self, transform=None):\n",
    "        self.data = self._load_data()\n",
    "        self.transform = transform\n",
    "        \n",
    "        mat_file = sio.loadmat('imagelabels.mat')\n",
    "        self.label = mat_file['labels']\n",
    "    \n",
    "    def load_data():\n",
    "        X = []\n",
    "        for filename in os.listdir('jpg'):\n",
    "            X.append(iio.read('jpg/'+filename))"
   ]
  },
  {
   "cell_type": "code",
   "execution_count": null,
   "metadata": {},
   "outputs": [],
   "source": [
    "import imageio as iio\n",
    "import scipy.io as sio\n",
    "import numpy as np\n",
    "import torch\n",
    "import os\n",
    "from torch.utils.data import Dataset, DataLoader\n",
    "# from torch.utis.data import Dataset, Dataloader\n",
    "\n",
    "\n",
    "class ImageSet(Dataset):\n",
    "    # init will initialize the dataset\n",
    "    def __init__(self, transform=None):\n",
    "        self.data = self._load_data()\n",
    "        self.transform = transform\n",
    "        \n",
    "        mat_file = sio.loadmat('imagelabels.mat')\n",
    "        self.label = mat_file['labels']\n",
    "    \n",
    "    def load_data():\n",
    "        X = []\n",
    "        for filename in os.listdir('jpg'):\n",
    "            X.append(iio.read('jpg/'+filename))"
   ]
  }
 ],
 "metadata": {
  "kernelspec": {
   "display_name": "computervision",
   "language": "python",
   "name": "python3"
  },
  "language_info": {
   "codemirror_mode": {
    "name": "ipython",
    "version": 3
   },
   "file_extension": ".py",
   "mimetype": "text/x-python",
   "name": "python",
   "nbconvert_exporter": "python",
   "pygments_lexer": "ipython3",
   "version": "3.11.5"
  }
 },
 "nbformat": 4,
 "nbformat_minor": 2
}
